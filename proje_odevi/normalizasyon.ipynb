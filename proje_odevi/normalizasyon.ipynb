{
 "cells": [
  {
   "cell_type": "code",
   "execution_count": 2,
   "id": "4603efa1-66c8-4357-adce-2ca230259e39",
   "metadata": {},
   "outputs": [],
   "source": [
    "import pandas as pd\n",
    "from sklearn.preprocessing import MinMaxScaler\n",
    "\n",
    "# CSV dosyasını yükle\n",
    "dataset = pd.read_csv(\"Indian Liver Patient Dataset (ILPD).csv\")\n",
    "\n",
    "# Veri setindeki hedef değişkeni ayrı bir değişkene kaydet\n",
    "hedef_degisken = dataset['selector']\n",
    "\n",
    "# Veri setinden hedef değişkeni çıkar\n",
    "dataset = dataset.drop(columns=['selector'])\n",
    "\n",
    "# Min-Max normalizasyonu uygula\n",
    "scaler = MinMaxScaler()\n",
    "normal_dataset = pd.DataFrame(scaler.fit_transform(dataset), columns=dataset.columns)\n",
    "\n",
    "# Hedef değişkeni normal veri setine ekle\n",
    "normal_dataset['selector'] = hedef_degisken\n",
    "\n",
    "# Normalleştirilmiş veri setini kaydetme\n",
    "normal_dataset.to_csv(\"Indian Liver Patient Dataset (ILPD)-normalizasyon.csv\", index=False)\n"
   ]
  },
  {
   "cell_type": "code",
   "execution_count": 3,
   "id": "3631b47b-c26a-4cbb-8cd5-048765939d07",
   "metadata": {},
   "outputs": [],
   "source": [
    "import pandas as pd\n",
    "from sklearn.preprocessing import MinMaxScaler\n",
    "\n",
    "# CSV dosyasını yükle\n",
    "dataset = pd.read_csv(\"Indian Liver Patient Dataset (ILPD).csv\")\n",
    "\n",
    "# Normalleştirilecek sütunları seç\n",
    "normalleştirilecek_sütunlar = ['alkphos', 'sgpt', 'sgot']\n",
    "\n",
    "# Min-Max normalizasyonu uygula\n",
    "scaler = MinMaxScaler()\n",
    "dataset[normalleştirilecek_sütunlar] = scaler.fit_transform(dataset[normalleştirilecek_sütunlar])\n",
    "\n",
    "# Normalleştirilmiş veri setini kaydetme\n",
    "dataset.to_csv(\"Indian Liver Patient Dataset (ILPD)-normalizasyon.csv\", index=False)\n"
   ]
  },
  {
   "cell_type": "code",
   "execution_count": 1,
   "id": "2d7ecd34-fb31-4d78-82e8-dbc9218aa718",
   "metadata": {},
   "outputs": [],
   "source": [
    "import pandas as pd\n",
    "\n",
    "# Veri setini yükle\n",
    "dataset = pd.read_csv(\"Indian Liver Patient Dataset (ILPD).csv\")\n",
    "\n",
    "# Normalleştirilecek sütunları seç\n",
    "sütunlar = [\"alkphos\", \"sgpt\", \"sgot\"]\n",
    "\n",
    "# Seçilen sütunların ortalamalarını ve standart sapmalarını hesapla\n",
    "ortalamalar = dataset[sütunlar].mean()\n",
    "standart_sapmalar = dataset[sütunlar].std()\n",
    "\n",
    "# Z-Score normalleştirmeyi uygula\n",
    "dataset[sütunlar] = (dataset[sütunlar] - ortalamalar) / standart_sapmalar\n",
    "\n",
    "# Normalleştirilmiş veri setini kaydetme\n",
    "dataset.to_csv(\"Indian Liver Patient Dataset (ILPD)-zskor.csv\", index=False)"
   ]
  },
  {
   "cell_type": "code",
   "execution_count": null,
   "id": "134a4d6e-da99-451b-bb1e-43e4cbe85920",
   "metadata": {},
   "outputs": [],
   "source": []
  }
 ],
 "metadata": {
  "kernelspec": {
   "display_name": "Python 3 (ipykernel)",
   "language": "python",
   "name": "python3"
  },
  "language_info": {
   "codemirror_mode": {
    "name": "ipython",
    "version": 3
   },
   "file_extension": ".py",
   "mimetype": "text/x-python",
   "name": "python",
   "nbconvert_exporter": "python",
   "pygments_lexer": "ipython3",
   "version": "3.11.7"
  }
 },
 "nbformat": 4,
 "nbformat_minor": 5
}
