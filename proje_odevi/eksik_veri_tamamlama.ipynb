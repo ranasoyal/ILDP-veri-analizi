{
 "cells": [
  {
   "cell_type": "code",
   "execution_count": 46,
   "id": "1739a580-169e-441f-b75b-29cb81536ff3",
   "metadata": {},
   "outputs": [
    {
     "name": "stdout",
     "output_type": "stream",
     "text": [
      "Eksik değerlerin sayısı:\n",
      "age         0\n",
      "gender      0\n",
      "tb          0\n",
      "db          0\n",
      "alkphos     0\n",
      "sgpt        0\n",
      "sgot        0\n",
      "tp          0\n",
      "alb         0\n",
      "a/g         4\n",
      "selector    0\n",
      "dtype: int64\n",
      "\n",
      "Eksik değer içeren sütunlar:\n",
      "['a/g']\n",
      "\n",
      "'a/g' sütunu için doldurulacak değerler:\n",
      "Ortalama değer: 0.9470639032815197\n",
      "Medyan değer: 0.93\n",
      "Mod değer: 0    1.0\n",
      "Name: a/g, dtype: float64\n"
     ]
    }
   ],
   "source": [
    "import pandas as pd\n",
    "\n",
    "dataset_file = 'Indian Liver Patient Dataset (ILPD).csv' # CSV dosyasının yolunu bir değişkene atanır.\n",
    "\n",
    "dataset = pd.read_csv(dataset_file) # CSV dosyasını okuyarak bir değişkene atanır.\n",
    "\n",
    "print(\"Eksik değerlerin sayısı:\")\n",
    "print(df.isnull().sum()) # Her sütundaki eksik değerlerin sayısı kontrol edilir.\n",
    "\n",
    "eksik_veriler = dataset.columns[dataset.isnull().any()].tolist() # Eksik değerlerin bulunduğu sütunlar tespit edilir.\n",
    "print(\"\\nEksik değer içeren sütunlar:\")\n",
    "print(eksik_veriler)\n",
    "\n",
    "# Eksik değerleri doldurmak için kullanılacak değerleri bulmak için for döngüsüne girilir.\n",
    "for column in eksik_veriler:\n",
    "    ortalama = dataset[column].mean()\n",
    "    medyan = dataset[column].median()\n",
    "    mod = dataset[column].mode() \n",
    "\n",
    "    print(f\"\\n'{column}' sütunu için doldurulacak değerler:\")\n",
    "    print(f\"Ortalama değer: {ortalama}\")\n",
    "    print(f\"Medyan değer: {medyan}\")\n",
    "    print(f\"Mod değer: {mod}\")\n"
   ]
  }
 ],
 "metadata": {
  "kernelspec": {
   "display_name": "Python 3 (ipykernel)",
   "language": "python",
   "name": "python3"
  },
  "language_info": {
   "codemirror_mode": {
    "name": "ipython",
    "version": 3
   },
   "file_extension": ".py",
   "mimetype": "text/x-python",
   "name": "python",
   "nbconvert_exporter": "python",
   "pygments_lexer": "ipython3",
   "version": "3.11.7"
  }
 },
 "nbformat": 4,
 "nbformat_minor": 5
}
