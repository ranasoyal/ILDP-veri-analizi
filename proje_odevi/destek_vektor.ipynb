{
 "cells": [
  {
   "cell_type": "code",
   "execution_count": 9,
   "id": "28231678-afa1-4f8b-8db7-72928d0e2622",
   "metadata": {},
   "outputs": [
    {
     "name": "stdout",
     "output_type": "stream",
     "text": [
      "Doğruluk: 0.7435897435897436\n"
     ]
    }
   ],
   "source": [
    "import pandas as pd\n",
    "from sklearn.model_selection import train_test_split\n",
    "from sklearn.svm import SVC\n",
    "from sklearn.metrics import accuracy_score, classification_report, confusion_matrix\n",
    "import seaborn as sns\n",
    "import matplotlib.pyplot as plt\n",
    "\n",
    "# CSV dosyasını yükle\n",
    "dataset = pd.read_csv(\"Indian Liver Patient Dataset (ILPD).csv\")\n",
    "\n",
    "# Özellikler ve hedef değişkeni ayırma\n",
    "X = dataset.drop(columns=['selector'])\n",
    "y = dataset['selector']\n",
    "\n",
    "# Veriyi eğitim ve test setlerine ayırma\n",
    "X_train, X_test, y_train, y_test = train_test_split(X, y, test_size=0.2, random_state=42)\n",
    "\n",
    "# Destek Vektör Makineleri modelini oluşturma ve eğitme\n",
    "svm = SVC(kernel='linear', random_state=42)\n",
    "svm.fit(X_train, y_train)\n",
    "\n",
    "# Test seti üzerinde tahminler yapma\n",
    "y_pred = svm.predict(X_test)\n",
    "\n",
    "# Model performansını değerlendirme\n",
    "accuracy = accuracy_score(y_test, y_pred)\n",
    "\n",
    "print(f\"Doğruluk: {accuracy}\")"
   ]
  },
  {
   "cell_type": "code",
   "execution_count": 10,
   "id": "1499ce33-db6f-4582-9aaf-51ffbebed0e3",
   "metadata": {},
   "outputs": [
    {
     "name": "stdout",
     "output_type": "stream",
     "text": [
      "Doğruluk: 0.7435897435897436\n"
     ]
    }
   ],
   "source": [
    "import pandas as pd\n",
    "from sklearn.model_selection import train_test_split\n",
    "from sklearn.svm import SVC\n",
    "from sklearn.metrics import accuracy_score, classification_report, confusion_matrix\n",
    "import seaborn as sns\n",
    "import matplotlib.pyplot as plt\n",
    "\n",
    "# CSV dosyasını yükle\n",
    "dataset = pd.read_csv(\"Indian Liver Patient Dataset (ILPD)-normalizasyon.csv\")\n",
    "\n",
    "# Özellikler ve hedef değişkeni ayırma\n",
    "X = dataset.drop(columns=['selector'])\n",
    "y = dataset['selector']\n",
    "\n",
    "# Veriyi eğitim ve test setlerine ayırma\n",
    "X_train, X_test, y_train, y_test = train_test_split(X, y, test_size=0.2, random_state=42)\n",
    "\n",
    "# Destek Vektör Makineleri modelini oluşturma ve eğitme\n",
    "svm = SVC(kernel='linear', random_state=42)\n",
    "svm.fit(X_train, y_train)\n",
    "\n",
    "# Test seti üzerinde tahminler yapma\n",
    "y_pred = svm.predict(X_test)\n",
    "\n",
    "# Model performansını değerlendirme\n",
    "accuracy = accuracy_score(y_test, y_pred)\n",
    "\n",
    "print(f\"Doğruluk: {accuracy}\")"
   ]
  },
  {
   "cell_type": "code",
   "execution_count": 11,
   "id": "5cb2d445-55ad-4bb8-a2a6-cc9c39502a2d",
   "metadata": {},
   "outputs": [
    {
     "name": "stdout",
     "output_type": "stream",
     "text": [
      "Doğruluk: 0.7435897435897436\n"
     ]
    }
   ],
   "source": [
    "import pandas as pd\n",
    "from sklearn.model_selection import train_test_split\n",
    "from sklearn.svm import SVC\n",
    "from sklearn.metrics import accuracy_score, classification_report, confusion_matrix\n",
    "import seaborn as sns\n",
    "import matplotlib.pyplot as plt\n",
    "\n",
    "# CSV dosyasını yükle\n",
    "dataset = pd.read_csv(\"Indian Liver Patient Dataset (ILPD)-zskor.csv\")\n",
    "\n",
    "# Özellikler ve hedef değişkeni ayırma\n",
    "X = dataset.drop(columns=['selector'])\n",
    "y = dataset['selector']\n",
    "\n",
    "# Veriyi eğitim ve test setlerine ayırma\n",
    "X_train, X_test, y_train, y_test = train_test_split(X, y, test_size=0.2, random_state=42)\n",
    "\n",
    "# Destek Vektör Makineleri modelini oluşturma ve eğitme\n",
    "svm = SVC(kernel='linear', random_state=42)\n",
    "svm.fit(X_train, y_train)\n",
    "\n",
    "# Test seti üzerinde tahminler yapma\n",
    "y_pred = svm.predict(X_test)\n",
    "\n",
    "# Model performansını değerlendirme\n",
    "accuracy = accuracy_score(y_test, y_pred)\n",
    "\n",
    "print(f\"Doğruluk: {accuracy}\")"
   ]
  }
 ],
 "metadata": {
  "kernelspec": {
   "display_name": "Python 3 (ipykernel)",
   "language": "python",
   "name": "python3"
  },
  "language_info": {
   "codemirror_mode": {
    "name": "ipython",
    "version": 3
   },
   "file_extension": ".py",
   "mimetype": "text/x-python",
   "name": "python",
   "nbconvert_exporter": "python",
   "pygments_lexer": "ipython3",
   "version": "3.11.7"
  }
 },
 "nbformat": 4,
 "nbformat_minor": 5
}
