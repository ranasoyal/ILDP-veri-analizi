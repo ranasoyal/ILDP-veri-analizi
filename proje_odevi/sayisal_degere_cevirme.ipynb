{
 "cells": [
  {
   "cell_type": "code",
   "execution_count": 12,
   "id": "9707ef13-23c2-4a24-a6c7-5e768943666f",
   "metadata": {},
   "outputs": [],
   "source": [
    "import pandas as pd\n",
    "dataset_file = 'Indian Liver Patient Dataset (ILPD).csv' # CSV dosyasının yolunu bir değişkene atanır.\n",
    "dataset = pd.read_csv(dataset_file) # CSV dosyasını okuyarak bir değişkene atanır.\n",
    "\n",
    "# 'gender' sütununda 'male' olanları 1, 'female' olanlar 2 olarak değiştirilir.\n",
    "dataset['gender'].replace({'Male': 1, 'Female': 2}, inplace=True)\n",
    "\n",
    "# Yeni veri seti CSV dosyasına kaydedilir.\n",
    "dataset.to_csv(\"Indian Liver Patient Dataset (ILPD)-2.csv\", index=False)\n"
   ]
  },
  {
   "cell_type": "code",
   "execution_count": 15,
   "id": "9d82ea9d-1c65-4b9b-9fc0-758574dee3f9",
   "metadata": {},
   "outputs": [],
   "source": [
    "# selector hasta olmayanları 2 den 0 a çevir\n",
    "dataset['selector'].replace({2: 0}, inplace=True)\n",
    "\n",
    "# Yeni veri seti CSV dosyasına kaydedilir.\n",
    "dataset.to_csv(\"Indian Liver Patient Dataset (ILPD)-2.csv\", index=False)\n"
   ]
  },
  {
   "cell_type": "code",
   "execution_count": null,
   "id": "450010b3-a950-40bf-ba79-e3cdec27986b",
   "metadata": {},
   "outputs": [],
   "source": []
  }
 ],
 "metadata": {
  "kernelspec": {
   "display_name": "Python 3 (ipykernel)",
   "language": "python",
   "name": "python3"
  },
  "language_info": {
   "codemirror_mode": {
    "name": "ipython",
    "version": 3
   },
   "file_extension": ".py",
   "mimetype": "text/x-python",
   "name": "python",
   "nbconvert_exporter": "python",
   "pygments_lexer": "ipython3",
   "version": "3.11.7"
  }
 },
 "nbformat": 4,
 "nbformat_minor": 5
}
