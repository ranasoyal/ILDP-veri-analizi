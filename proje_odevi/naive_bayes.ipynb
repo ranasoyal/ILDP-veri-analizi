{
 "cells": [
  {
   "cell_type": "code",
   "execution_count": 1,
   "id": "1fe8b2f2-35c1-4111-b2ac-b0446f347a72",
   "metadata": {},
   "outputs": [
    {
     "name": "stdout",
     "output_type": "stream",
     "text": [
      "Doğruluk: 0.5128205128205128\n"
     ]
    }
   ],
   "source": [
    "import pandas as pd\n",
    "from sklearn.model_selection import train_test_split\n",
    "from sklearn.naive_bayes import GaussianNB\n",
    "from sklearn.metrics import accuracy_score, classification_report, confusion_matrix\n",
    "import seaborn as sns\n",
    "import matplotlib.pyplot as plt\n",
    "\n",
    "# CSV dosyasını yükle\n",
    "dataset= pd.read_csv(\"Indian Liver Patient Dataset (ILPD).csv\")\n",
    "\n",
    "# Özellikler ve hedef değişkeni ayırma\n",
    "X = dataset.drop(columns=['selector'])\n",
    "y = dataset['selector']\n",
    "\n",
    "# Veriyi eğitim ve test setlerine ayırma\n",
    "X_train, X_test, y_train, y_test = train_test_split(X, y, test_size=0.2, random_state=42)\n",
    "\n",
    "# Naive Bayes modelini oluşturma ve eğitme\n",
    "nb = GaussianNB()\n",
    "nb.fit(X_train, y_train)\n",
    "\n",
    "# Test seti üzerinde tahminler yapma\n",
    "y_pred = nb.predict(X_test)\n",
    "\n",
    "# Model performansını değerlendirme\n",
    "accuracy = accuracy_score(y_test, y_pred)\n",
    "report = classification_report(y_test, y_pred)\n",
    "conf_matrix = confusion_matrix(y_test, y_pred)\n",
    "\n",
    "print(f\"Doğruluk: {accuracy}\")"
   ]
  },
  {
   "cell_type": "code",
   "execution_count": 2,
   "id": "a168ed20-c1a4-4d66-a4ee-2e0c8d83d16b",
   "metadata": {},
   "outputs": [
    {
     "name": "stdout",
     "output_type": "stream",
     "text": [
      "Doğruluk: 0.5128205128205128\n"
     ]
    }
   ],
   "source": [
    "import pandas as pd\n",
    "from sklearn.model_selection import train_test_split\n",
    "from sklearn.naive_bayes import GaussianNB\n",
    "from sklearn.metrics import accuracy_score, classification_report, confusion_matrix\n",
    "import seaborn as sns\n",
    "import matplotlib.pyplot as plt\n",
    "\n",
    "# CSV dosyasını yükle\n",
    "dataset= pd.read_csv(\"Indian Liver Patient Dataset (ILPD)-normalizasyon.csv\")\n",
    "\n",
    "# Özellikler ve hedef değişkeni ayırma\n",
    "X = dataset.drop(columns=['selector'])\n",
    "y = dataset['selector']\n",
    "\n",
    "# Veriyi eğitim ve test setlerine ayırma\n",
    "X_train, X_test, y_train, y_test = train_test_split(X, y, test_size=0.2, random_state=42)\n",
    "\n",
    "# Naive Bayes modelini oluşturma ve eğitme\n",
    "nb = GaussianNB()\n",
    "nb.fit(X_train, y_train)\n",
    "\n",
    "# Test seti üzerinde tahminler yapma\n",
    "y_pred = nb.predict(X_test)\n",
    "\n",
    "# Model performansını değerlendirme\n",
    "accuracy = accuracy_score(y_test, y_pred)\n",
    "report = classification_report(y_test, y_pred)\n",
    "conf_matrix = confusion_matrix(y_test, y_pred)\n",
    "\n",
    "print(f\"Doğruluk: {accuracy}\")"
   ]
  },
  {
   "cell_type": "code",
   "execution_count": 3,
   "id": "2180acaf-b26f-48b8-bda4-b5660ac5113d",
   "metadata": {},
   "outputs": [
    {
     "name": "stdout",
     "output_type": "stream",
     "text": [
      "Doğruluk: 0.5128205128205128\n"
     ]
    }
   ],
   "source": [
    "import pandas as pd\n",
    "from sklearn.model_selection import train_test_split\n",
    "from sklearn.naive_bayes import GaussianNB\n",
    "from sklearn.metrics import accuracy_score, classification_report, confusion_matrix\n",
    "import seaborn as sns\n",
    "import matplotlib.pyplot as plt\n",
    "\n",
    "# CSV dosyasını yükle\n",
    "dataset= pd.read_csv(\"Indian Liver Patient Dataset (ILPD)-zskor.csv\")\n",
    "\n",
    "# Özellikler ve hedef değişkeni ayırma\n",
    "X = dataset.drop(columns=['selector'])\n",
    "y = dataset['selector']\n",
    "\n",
    "# Veriyi eğitim ve test setlerine ayırma\n",
    "X_train, X_test, y_train, y_test = train_test_split(X, y, test_size=0.2, random_state=42)\n",
    "\n",
    "# Naive Bayes modelini oluşturma ve eğitme\n",
    "nb = GaussianNB()\n",
    "nb.fit(X_train, y_train)\n",
    "\n",
    "# Test seti üzerinde tahminler yapma\n",
    "y_pred = nb.predict(X_test)\n",
    "\n",
    "# Model performansını değerlendirme\n",
    "accuracy = accuracy_score(y_test, y_pred)\n",
    "report = classification_report(y_test, y_pred)\n",
    "conf_matrix = confusion_matrix(y_test, y_pred)\n",
    "\n",
    "print(f\"Doğruluk: {accuracy}\")"
   ]
  }
 ],
 "metadata": {
  "kernelspec": {
   "display_name": "Python 3 (ipykernel)",
   "language": "python",
   "name": "python3"
  },
  "language_info": {
   "codemirror_mode": {
    "name": "ipython",
    "version": 3
   },
   "file_extension": ".py",
   "mimetype": "text/x-python",
   "name": "python",
   "nbconvert_exporter": "python",
   "pygments_lexer": "ipython3",
   "version": "3.11.7"
  }
 },
 "nbformat": 4,
 "nbformat_minor": 5
}
